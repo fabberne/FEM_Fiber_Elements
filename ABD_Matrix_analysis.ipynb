{
 "cells": [
  {
   "cell_type": "code",
   "execution_count": 1,
   "metadata": {},
   "outputs": [],
   "source": [
    "import numpy as np\n",
    "import laminate"
   ]
  },
  {
   "cell_type": "code",
   "execution_count": 2,
   "metadata": {},
   "outputs": [
    {
     "name": "stdout",
     "output_type": "stream",
     "text": [
      "╒════════════════════════════════╤════════════════════════════════╤════════════════════════════════╕\n",
      "│ A Matrix                       │ B Matrix                       │ D Matrix                       │\n",
      "╞════════════════════════════════╪════════════════════════════════╪════════════════════════════════╡\n",
      "│ [[2.81e+07 9.57e+06 0.00e+00]  │ [[-1.55e+03 5.27e+02 1.02e+03] │ [[3.93e-01 9.01e-02 1.28e-01]  │\n",
      "│  [9.57e+06 1.17e+07 0.00e+00]  │  [5.27e+02 4.95e+02 1.02e+03]  │  [9.01e-02 1.16e-01 1.28e-01]  │\n",
      "│  [0.00e+00 0.00e+00 1.87e+07]] │  [5.11e+02 5.11e+02 1.05e+03]] │  [6.39e-02 6.39e-02 1.76e-01]] │\n",
      "╘════════════════════════════════╧════════════════════════════════╧════════════════════════════════╛\n",
      "╒════════════╤══════════╕\n",
      "│ Property   │    Value │\n",
      "╞════════════╪══════════╡\n",
      "│ Ex         │ 7.48e+10 │\n",
      "├────────────┼──────────┤\n",
      "│ Ey         │ 3.12e+10 │\n",
      "├────────────┼──────────┤\n",
      "│ Gxy        │ 5e+10    │\n",
      "├────────────┼──────────┤\n",
      "│ vxy        │ 0.818    │\n",
      "╘════════════╧══════════╛\n"
     ]
    }
   ],
   "source": [
    "layers = [\n",
    "    {'E1': 140e9, 'E2': 10e9, 'G12': 5e9, 'v12': 0.3, 'theta': 0, 'thickness': 0.125e-3},\n",
    "    {'E1': 140e9, 'E2': 10e9, 'G12': 5e9, 'v12': 0.3, 'theta': 45, 'thickness': 0.125e-3},\n",
    "    {'E1': 140e9, 'E2': 10e9, 'G12': 5e9, 'v12': 0.3, 'theta': -45, 'thickness': 0.125e-3}\n",
    "]\n",
    "\n",
    "Lam = laminate.Laminate(layers)\n",
    "Lam.print_results()"
   ]
  },
  {
   "cell_type": "code",
   "execution_count": 3,
   "metadata": {},
   "outputs": [
    {
     "name": "stdout",
     "output_type": "stream",
     "text": [
      "\n",
      "Dehnungen pro Schicht:\n",
      "╒═══════════╤═══════════╤═══════════╤═══════════╕\n",
      "│   Schicht │       Exx │       Eyy │       Gxy │\n",
      "╞═══════════╪═══════════╪═══════════╪═══════════╡\n",
      "│         1 │ -3.35e-05 │  2.78e-05 │  4.81e-05 │\n",
      "├───────────┼───────────┼───────────┼───────────┤\n",
      "│         2 │  9.16e-05 │ -6.99e-05 │  2.04e-05 │\n",
      "├───────────┼───────────┼───────────┼───────────┤\n",
      "│         3 │  0.000217 │ -0.000168 │ -7.37e-06 │\n",
      "╘═══════════╧═══════════╧═══════════╧═══════════╛\n",
      "\n",
      "Spannungen pro Schicht:\n",
      "╒═══════════╤═══════════════╤═════════╤═══════════════╕\n",
      "│   Schicht │           Sxx │     Syy │           Txy │\n",
      "╞═══════════╪═══════════════╪═════════╪═══════════════╡\n",
      "│         1 │     -4.63e+06 │  178000 │ 240000        │\n",
      "├───────────┼───────────────┼─────────┼───────────────┤\n",
      "│         2 │ -75200        │ -883000 │ 765000        │\n",
      "├───────────┼───────────────┼─────────┼───────────────┤\n",
      "│         3 │      2.41e+06 │  487000 │      1.07e+06 │\n",
      "╘═══════════╧═══════════════╧═════════╧═══════════════╛\n"
     ]
    }
   ],
   "source": [
    "laminate_analysis = laminate.LaminateLoadAnalysis(Lam)\n",
    "\n",
    "midplane_strains, midplane_curvatures = laminate_analysis.apply_load(Nx=1000, Ny=0, Nxy=0)\n",
    "\n",
    "ply_strains, ply_stresses = laminate_analysis.compute_ply_stresses_strains(midplane_strains, midplane_curvatures)\n",
    "\n",
    "laminate_analysis.print_ply_results(ply_strains, ply_stresses)"
   ]
  }
 ],
 "metadata": {
  "kernelspec": {
   "display_name": "Python 3",
   "language": "python",
   "name": "python3"
  },
  "language_info": {
   "codemirror_mode": {
    "name": "ipython",
    "version": 3
   },
   "file_extension": ".py",
   "mimetype": "text/x-python",
   "name": "python",
   "nbconvert_exporter": "python",
   "pygments_lexer": "ipython3",
   "version": "3.13.2"
  }
 },
 "nbformat": 4,
 "nbformat_minor": 2
}
