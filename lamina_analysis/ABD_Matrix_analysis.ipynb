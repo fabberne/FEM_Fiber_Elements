{
 "cells": [
  {
   "cell_type": "code",
   "execution_count": 1,
   "metadata": {},
   "outputs": [],
   "source": [
    "import numpy as np\n",
    "import laminate"
   ]
  },
  {
   "cell_type": "code",
   "execution_count": 6,
   "metadata": {},
   "outputs": [
    {
     "name": "stdout",
     "output_type": "stream",
     "text": [
      "╒═════════════════════════════════╤════════════════════════════════╤═════════════════════════════════╕\n",
      "│ A Matrix                        │ B Matrix                       │ D Matrix                        │\n",
      "╞═════════════════════════════════╪════════════════════════════════╪═════════════════════════════════╡\n",
      "│ [[1.05e+11 2.52e+09 -5.72e+09]  │ [[0.00e+00 0.00e+00 0.00e+00]  │ [[4.95e+09 1.07e+08 -2.98e+07]  │\n",
      "│  [2.52e+09 7.54e+09 4.43e+07]   │  [0.00e+00 0.00e+00 0.00e+00]  │  [1.07e+08 3.54e+08 2.31e+05]   │\n",
      "│  [-2.86e+09 2.21e+07 4.26e+09]] │  [0.00e+00 0.00e+00 0.00e+00]] │  [-1.49e+07 1.15e+05 1.78e+08]] │\n",
      "╘═════════════════════════════════╧════════════════════════════════╧═════════════════════════════════╛\n",
      "╒════════════╤══════════╕\n",
      "│ Property   │    Value │\n",
      "╞════════════╪══════════╡\n",
      "│ Ex         │ 1.4e+11  │\n",
      "├────────────┼──────────┤\n",
      "│ Ey         │ 1.01e+10 │\n",
      "├────────────┼──────────┤\n",
      "│ Gxy        │ 5.68e+09 │\n",
      "├────────────┼──────────┤\n",
      "│ vxy        │ 0.334    │\n",
      "╘════════════╧══════════╛\n"
     ]
    }
   ],
   "source": [
    "layers = [\n",
    "    {'E1': 140e9, 'E2': 10e9, 'G12': 5e9, 'v12': 0.3, 'theta': 0, 'thickness': 0.25},\n",
    "    {'E1': 140e9, 'E2': 10e9, 'G12': 5e9, 'v12': 0.3, 'theta': 5, 'thickness': 0.25},\n",
    "    {'E1': 140e9, 'E2': 10e9, 'G12': 5e9, 'v12': 0.3, 'theta': 0, 'thickness': 0.25}\n",
    "]\n",
    "\n",
    "Lam = laminate.Laminate(layers)\n",
    "Lam.print_results()"
   ]
  },
  {
   "cell_type": "code",
   "execution_count": 7,
   "metadata": {},
   "outputs": [
    {
     "name": "stdout",
     "output_type": "stream",
     "text": [
      "\n",
      "Dehnungen pro Schicht:\n",
      "╒═══════════╤══════════╤═══════════╤══════════╕\n",
      "│   Schicht │      Exx │       Eyy │      Gxy │\n",
      "╞═══════════╪══════════╪═══════════╪══════════╡\n",
      "│         1 │ 9.95e-09 │ -3.36e-09 │ 6.71e-09 │\n",
      "├───────────┼──────────┼───────────┼──────────┤\n",
      "│         2 │ 9.95e-09 │ -3.36e-09 │ 6.71e-09 │\n",
      "├───────────┼──────────┼───────────┼──────────┤\n",
      "│         3 │ 9.95e-09 │ -3.36e-09 │ 6.71e-09 │\n",
      "╘═══════════╧══════════╧═══════════╧══════════╛\n",
      "\n",
      "Spannungen pro Schicht:\n",
      "╒═══════════╤═══════╤═══════╤═══════╕\n",
      "│   Schicht │   Sxx │   Syy │   Txy │\n",
      "╞═══════════╪═══════╪═══════╪═══════╡\n",
      "│         1 │  1390 │ -3.8  │  33.5 │\n",
      "├───────────┼───────┼───────┼───────┤\n",
      "│         2 │  1220 │  7.59 │ -67.1 │\n",
      "├───────────┼───────┼───────┼───────┤\n",
      "│         3 │  1390 │ -3.8  │  33.5 │\n",
      "╘═══════════╧═══════╧═══════╧═══════╛\n"
     ]
    }
   ],
   "source": [
    "laminate_analysis = laminate.LaminateLoadAnalysis(Lam)\n",
    "\n",
    "midplane_strains, midplane_curvatures = laminate_analysis.apply_load(Nx=1000, Ny=0, Nxy=0)\n",
    "\n",
    "ply_strains, ply_stresses = laminate_analysis.compute_ply_stresses_strains(midplane_strains, midplane_curvatures)\n",
    "\n",
    "laminate_analysis.print_ply_results(ply_strains, ply_stresses)"
   ]
  }
 ],
 "metadata": {
  "kernelspec": {
   "display_name": "Python 3",
   "language": "python",
   "name": "python3"
  },
  "language_info": {
   "codemirror_mode": {
    "name": "ipython",
    "version": 3
   },
   "file_extension": ".py",
   "mimetype": "text/x-python",
   "name": "python",
   "nbconvert_exporter": "python",
   "pygments_lexer": "ipython3",
   "version": "3.13.2"
  }
 },
 "nbformat": 4,
 "nbformat_minor": 2
}
