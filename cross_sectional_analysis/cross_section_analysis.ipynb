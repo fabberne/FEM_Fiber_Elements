{
 "cells": [
  {
   "cell_type": "code",
   "execution_count": null,
   "metadata": {},
   "outputs": [],
   "source": [
    "import sys\n",
    "import os\n",
    "\n",
    "# Add the src folder to the Python path\n",
    "sys.path.append(os.path.abspath(os.path.join(os.getcwd(), '..', 'src')))\n",
    "\n",
    "import mesh\n",
    "import geometry"
   ]
  },
  {
   "cell_type": "code",
   "execution_count": null,
   "metadata": {},
   "outputs": [
    {
     "data": {
      "text/plain": [
       "Text(0.5, 1.0, '$\\\\alpha > \\\\beta$')"
      ]
     },
     "execution_count": 1,
     "metadata": {},
     "output_type": "execute_result"
    },
    {
     "data": {
      "image/png": "[encoded data removed]",
      "text/plain": [
       "<Figure size 640x480 with 1 Axes>"
      ]
     },
     "metadata": {},
     "output_type": "display_data"
    }
   ],
   "source": [
    "# test latex rendering\n",
    "import matplotlib.pyplot as plt\n",
    "plt.rc('text', usetex=True)"
   ]
  },
  {
   "cell_type": "code",
   "execution_count": null,
   "metadata": {},
   "outputs": [],
   "source": [
    "rect = geometry.Rectangle(4,3)\n",
    "Mesh = mesh.Mesh(rect, \"quadrilateral\", 0.3)\n",
    "\n",
    "Mesh.plot()\n",
    "Mesh.print()"
   ]
  },
  {
   "cell_type": "code",
   "execution_count": null,
   "metadata": {},
   "outputs": [],
   "source": [
    "import matplotlib.pyplot as plt\n",
    "import numpy as np\n",
    "\n",
    "n_of_elements = []\n",
    "n_of_nodes    = []\n",
    "for i in np.logspace(1,10,10):\n",
    "    rect = geometry.Rectangle(4,3)\n",
    "    Mesh = mesh.Mesh(rect, \"triangle\", (i+1)**(1/16) / 10)\n",
    "    n_of_elements.append(len(Mesh.elements))\n",
    "    n_of_nodes.append(len(Mesh.node_coords))\n",
    "\n",
    "plt.scatter(n_of_nodes, n_of_elements)\n",
    "m,b = np.polyfit(n_of_nodes, n_of_elements, 1)\n",
    "print(m,b)\n",
    "print(n_of_elements, n_of_nodes)"
   ]
  },
  {
   "cell_type": "code",
   "execution_count": null,
   "metadata": {},
   "outputs": [],
   "source": [
    "T    = geometry.T_profile(4,9,20,3)\n",
    "Mesh = mesh.Mesh(T, \"quadrilateral\", 1)\n",
    "\n",
    "Mesh.plot()\n",
    "Mesh.print()"
   ]
  },
  {
   "cell_type": "code",
   "execution_count": null,
   "metadata": {},
   "outputs": [],
   "source": [
    "H    = geometry.H_beam(0.5,8,10,0.8)\n",
    "Mesh = mesh.Mesh(H, \"quadrilateral\", 0.25)\n",
    "\n",
    "Mesh.plot()\n",
    "Mesh.print()"
   ]
  },
  {
   "cell_type": "code",
   "execution_count": null,
   "metadata": {},
   "outputs": [],
   "source": [
    "points = [( 0.0, 0.0), \n",
    "          ( 5.0, 0.0),\n",
    "          ( 5.0, 0.75), \n",
    "          ( 0.75, 0.75), \n",
    "          ( 0.575, 0.825), \n",
    "          ( 0.5, 1.0),\n",
    "          ( 0.5, 9.0),\n",
    "          ( 0.575, 9.175),\n",
    "          ( 0.75, 9.25),\n",
    "          ( 5.0, 9.25),\n",
    "          ( 5.0,10.0),\n",
    "          ( 0.0,10.0)]\n",
    "\n",
    "poly = geometry.Polygon(points)\n",
    "Mesh = mesh.Mesh(poly, \"quadrilateral\", 0.25)\n",
    "\n",
    "Mesh.plot()\n",
    "Mesh.print()"
   ]
  },
  {
   "cell_type": "code",
   "execution_count": null,
   "metadata": {},
   "outputs": [],
   "source": [
    "ReinforcedConcrete = geometry.ReinforcedConcreteColumn(width  = 30, \n",
    "                                                       height = 30, \n",
    "                                                       concrete_cover = 3,\n",
    "                                                       rebar_diameter = 2,\n",
    "                                                       rebar_spacing  = 5)\n",
    "Mesh = mesh.Mesh(ReinforcedConcrete, \"triangle\", 2.5)\n",
    "Mesh.plot()\n",
    "Mesh.print()"
   ]
  },
  {
   "cell_type": "code",
   "execution_count": null,
   "metadata": {},
   "outputs": [],
   "source": [
    "L = geometry.L_Beam(100, 75, 8, 8, 5, 12.95)\n",
    "Mesh = mesh.Mesh(L, \"triangle\", 3)\n",
    "\n",
    "Mesh.plot()\n",
    "Mesh.print()"
   ]
  },
  {
   "cell_type": "code",
   "execution_count": null,
   "metadata": {},
   "outputs": [],
   "source": [
    "L = geometry.L_Beam(65, 100, 9, 9, 4.5, 0)\n",
    "Mesh = mesh.Mesh(L, \"triangle\", 2)\n",
    "\n",
    "Mesh.plot()\n",
    "Mesh.print()"
   ]
  },
  {
   "cell_type": "code",
   "execution_count": null,
   "metadata": {},
   "outputs": [],
   "source": [
    "mesh_sizes = [0.05, 0.1, 0.2, 0.4, 0.6, 0.8, 1, 2, 3, 4, 5, 6, 7, 8, 9, 10]\n",
    "\n",
    "A   = []\n",
    "I_x = []\n",
    "I_y = []\n",
    "\n",
    "for size in mesh_sizes:\n",
    "    Mesh = mesh.Mesh(L, \"triangle\", size)\n",
    "\n",
    "    a        = Mesh.get_A_numerical()\n",
    "    i_x, i_y = Mesh.get_I_numerical()\n",
    "\n",
    "    A.append(a)\n",
    "    I_x.append(i_x)\n",
    "    I_y.append(i_y)\n",
    "\n",
    "plt.scatter(mesh_sizes, A)\n",
    "plt.show()\n",
    "\n",
    "plt.scatter(mesh_sizes, I_x)\n",
    "plt.show()\n",
    "\n",
    "plt.scatter(mesh_sizes, I_y)\n",
    "plt.show()"
   ]
  },
  {
   "cell_type": "code",
   "execution_count": null,
   "metadata": {},
   "outputs": [],
   "source": [
    "A_scale = []\n",
    "I_x_scale = []\n",
    "I_y_scale = []\n",
    "\n",
    "for i in range(len(A)):\n",
    "    A_scale.append(A[i] / 1414.8)\n",
    "    I_x_scale.append(I_x[i] / 1406000)\n",
    "    I_y_scale.append(I_y[i] /  467040)"
   ]
  },
  {
   "cell_type": "code",
   "execution_count": null,
   "metadata": {},
   "outputs": [],
   "source": [
    "plt.scatter(mesh_sizes, A_scale )\n",
    "plt.title(\"Variation of the Area\")\n",
    "plt.xlabel(\"mesh size\")\n",
    "plt.ylabel(\"variation of the Area in %\")\n",
    "plt.ylim(0.99, 1.01)\n",
    "plt.grid()\n",
    "plt.show()\n",
    "\n",
    "plt.scatter(mesh_sizes, I_x_scale )\n",
    "plt.title(\"Variation of the Moment of Intertia X\")\n",
    "plt.xlabel(\"mesh size\")\n",
    "plt.ylabel(\"variation of I_x in %\")\n",
    "plt.ylim(0.98, 1.02)\n",
    "plt.grid()\n",
    "plt.show()\n",
    "\n",
    "plt.scatter(mesh_sizes, I_y_scale )\n",
    "plt.title(\"Variation of the Moment of Intertia Y\")\n",
    "plt.xlabel(\"mesh size\")\n",
    "plt.ylabel(\"variation of I_y in %\")\n",
    "plt.ylim(0.98, 1.02)\n",
    "plt.grid()\n",
    "plt.show()"
   ]
  }
 ],
 "metadata": {
  "kernelspec": {
   "display_name": "Python 3",
   "language": "python",
   "name": "python3"
  },
  "language_info": {
   "codemirror_mode": {
    "name": "ipython",
    "version": 3
   },
   "file_extension": ".py",
   "mimetype": "text/x-python",
   "name": "python",
   "nbconvert_exporter": "python",
   "pygments_lexer": "ipython3",
   "version": "3.13.2"
  }
 },
 "nbformat": 4,
 "nbformat_minor": 2
}
