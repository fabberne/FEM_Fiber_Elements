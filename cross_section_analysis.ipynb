{
 "cells": [
  {
   "cell_type": "code",
   "execution_count": 1,
   "metadata": {},
   "outputs": [],
   "source": [
    "import mesh\n",
    "import geometry"
   ]
  },
  {
   "cell_type": "code",
   "execution_count": 2,
   "metadata": {},
   "outputs": [
    {
     "ename": "AttributeError",
     "evalue": "module 'material' has no attribute 'Unknown'",
     "output_type": "error",
     "traceback": [
      "\u001b[31m---------------------------------------------------------------------------\u001b[39m",
      "\u001b[31mAttributeError\u001b[39m                            Traceback (most recent call last)",
      "\u001b[36mCell\u001b[39m\u001b[36m \u001b[39m\u001b[32mIn[2]\u001b[39m\u001b[32m, line 2\u001b[39m\n\u001b[32m      1\u001b[39m rect = geometry.Rectangle(\u001b[32m4\u001b[39m,\u001b[32m3\u001b[39m)\n\u001b[32m----> \u001b[39m\u001b[32m2\u001b[39m Mesh = \u001b[43mmesh\u001b[49m\u001b[43m.\u001b[49m\u001b[43mMesh\u001b[49m\u001b[43m(\u001b[49m\u001b[43mrect\u001b[49m\u001b[43m,\u001b[49m\u001b[43m \u001b[49m\u001b[33;43m\"\u001b[39;49m\u001b[33;43mtriangle\u001b[39;49m\u001b[33;43m\"\u001b[39;49m\u001b[43m,\u001b[49m\u001b[43m \u001b[49m\u001b[32;43m0.3\u001b[39;49m\u001b[43m)\u001b[49m\n\u001b[32m      4\u001b[39m Mesh.plot()\n\u001b[32m      5\u001b[39m Mesh.print()\n",
      "\u001b[36mFile \u001b[39m\u001b[32mh:\\Dokumente\\02_Ausbildung\\ETH\\03_Masterarbeit\\01_CrossSectionAnalysis\\mesh.py:18\u001b[39m, in \u001b[36mMesh.__init__\u001b[39m\u001b[34m(self, geometry, mesh_type, mesh_size)\u001b[39m\n\u001b[32m     15\u001b[39m \u001b[38;5;28mself\u001b[39m.mesh_type = mesh_type\n\u001b[32m     16\u001b[39m \u001b[38;5;28mself\u001b[39m.mesh_size = mesh_size\n\u001b[32m---> \u001b[39m\u001b[32m18\u001b[39m elements, node_coords = \u001b[43mgeometry\u001b[49m\u001b[43m.\u001b[49m\u001b[43mgenerate_mesh\u001b[49m\u001b[43m(\u001b[49m\u001b[43mmesh_type\u001b[49m\u001b[43m,\u001b[49m\u001b[43m \u001b[49m\u001b[43mmesh_size\u001b[49m\u001b[43m)\u001b[49m\n\u001b[32m     20\u001b[39m \u001b[38;5;28mself\u001b[39m.elements    = elements\n\u001b[32m     21\u001b[39m \u001b[38;5;28mself\u001b[39m.node_coords = node_coords\n",
      "\u001b[36mFile \u001b[39m\u001b[32mh:\\Dokumente\\02_Ausbildung\\ETH\\03_Masterarbeit\\01_CrossSectionAnalysis\\geometry.py:70\u001b[39m, in \u001b[36mRectangle.generate_mesh\u001b[39m\u001b[34m(self, type, size)\u001b[39m\n\u001b[32m     66\u001b[39m         elements = np.array(elem_nodes[i]).reshape(-\u001b[32m1\u001b[39m, \u001b[32m4\u001b[39m) - \u001b[32m1\u001b[39m\n\u001b[32m     68\u001b[39m gmsh.finalize()\n\u001b[32m---> \u001b[39m\u001b[32m70\u001b[39m elements = [\u001b[43melement\u001b[49m\u001b[43m.\u001b[49m\u001b[43mElement_2D\u001b[49m\u001b[43m(\u001b[49m\u001b[43melem\u001b[49m\u001b[43m,\u001b[49m\u001b[43m \u001b[49m\u001b[43mnode_coords\u001b[49m\u001b[43m[\u001b[49m\u001b[43melem\u001b[49m\u001b[43m]\u001b[49m\u001b[43m)\u001b[49m \u001b[38;5;28;01mfor\u001b[39;00m elem \u001b[38;5;129;01min\u001b[39;00m elements]\n\u001b[32m     72\u001b[39m \u001b[38;5;28;01mreturn\u001b[39;00m elements, node_coords\n",
      "\u001b[36mFile \u001b[39m\u001b[32mh:\\Dokumente\\02_Ausbildung\\ETH\\03_Masterarbeit\\01_CrossSectionAnalysis\\element.py:24\u001b[39m, in \u001b[36mElement_2D.__init__\u001b[39m\u001b[34m(self, nodes, coords, mat)\u001b[39m\n\u001b[32m     22\u001b[39m     \u001b[38;5;28mself\u001b[39m.material = material.Rebar_B500B()\n\u001b[32m     23\u001b[39m \u001b[38;5;28;01melse\u001b[39;00m:\n\u001b[32m---> \u001b[39m\u001b[32m24\u001b[39m     \u001b[38;5;28mself\u001b[39m.material = \u001b[43mmaterial\u001b[49m\u001b[43m.\u001b[49m\u001b[43mUnknown\u001b[49m()\n",
      "\u001b[31mAttributeError\u001b[39m: module 'material' has no attribute 'Unknown'"
     ]
    }
   ],
   "source": [
    "rect = geometry.Rectangle(4,3)\n",
    "Mesh = mesh.Mesh(rect, \"triangle\", 0.3)\n",
    "\n",
    "Mesh.plot()\n",
    "Mesh.print()"
   ]
  },
  {
   "cell_type": "code",
   "execution_count": null,
   "metadata": {},
   "outputs": [],
   "source": [
    "import matplotlib.pyplot as plt\n",
    "import numpy as np\n",
    "\n",
    "n_of_elements = []\n",
    "n_of_nodes    = []\n",
    "for i in np.logspace(1,10,10):\n",
    "    rect = geometry.Rectangle(4,3)\n",
    "    Mesh = mesh.Mesh(rect, \"triangle\", (i+1)**(1/16) / 10)\n",
    "    n_of_elements.append(len(Mesh.elements))\n",
    "    n_of_nodes.append(len(Mesh.node_coords))\n",
    "\n",
    "plt.scatter(n_of_nodes, n_of_elements)\n",
    "m,b = np.polyfit(n_of_nodes, n_of_elements, 1)\n",
    "print(m,b)\n",
    "print(n_of_elements, n_of_nodes)"
   ]
  },
  {
   "cell_type": "code",
   "execution_count": null,
   "metadata": {},
   "outputs": [],
   "source": [
    "T    = geometry.T_profile(4,9,20,3)\n",
    "Mesh = mesh.Mesh(T, \"triangle\", 1)\n",
    "\n",
    "Mesh.plot()\n",
    "Mesh.print()"
   ]
  },
  {
   "cell_type": "code",
   "execution_count": null,
   "metadata": {},
   "outputs": [],
   "source": [
    "H    = geometry.H_beam(0.5,8,10,0.8)\n",
    "Mesh = mesh.Mesh(H, \"quadrilateral\", 0.5)\n",
    "\n",
    "Mesh.plot()\n",
    "Mesh.print()"
   ]
  },
  {
   "cell_type": "code",
   "execution_count": null,
   "metadata": {},
   "outputs": [],
   "source": [
    "points = [( 0.0, 0.0), \n",
    "          ( 5.0, 0.0),\n",
    "          ( 5.0, 0.75), \n",
    "          ( 0.75, 0.75), \n",
    "          ( 0.575, 0.825), \n",
    "          ( 0.5, 1.0),\n",
    "          ( 0.5, 9.0),\n",
    "          ( 0.575, 9.175),\n",
    "          ( 0.75, 9.25),\n",
    "          ( 5.0, 9.25),\n",
    "          ( 5.0,10.0),\n",
    "          ( 0.0,10.0)]\n",
    "\n",
    "poly = geometry.Polygon(points)\n",
    "Mesh = mesh.Mesh(poly, \"triangle\", 0.5)\n",
    "\n",
    "Mesh.plot()\n",
    "Mesh.print()"
   ]
  },
  {
   "cell_type": "code",
   "execution_count": null,
   "metadata": {},
   "outputs": [],
   "source": [
    "ReinforcedConcrete = geometry.ReinforcedConcreteColumn(width  = 30, \n",
    "                                                       height = 30, \n",
    "                                                       concrete_cover = 3,\n",
    "                                                       rebar_diameter = 2,\n",
    "                                                       rebar_spacing  = 5)\n",
    "Mesh = mesh.Mesh(ReinforcedConcrete, \"triangle\", 5)\n",
    "Mesh.plot()\n",
    "Mesh.print()"
   ]
  }
 ],
 "metadata": {
  "kernelspec": {
   "display_name": "Python 3",
   "language": "python",
   "name": "python3"
  },
  "language_info": {
   "codemirror_mode": {
    "name": "ipython",
    "version": 3
   },
   "file_extension": ".py",
   "mimetype": "text/x-python",
   "name": "python",
   "nbconvert_exporter": "python",
   "pygments_lexer": "ipython3",
   "version": "3.13.2"
  }
 },
 "nbformat": 4,
 "nbformat_minor": 2
}
